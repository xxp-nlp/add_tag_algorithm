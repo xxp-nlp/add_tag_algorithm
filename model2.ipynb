{
 "cells": [
  {
   "cell_type": "code",
   "execution_count": null,
   "id": "2b96a824",
   "metadata": {},
   "outputs": [],
   "source": [
    "!nvidia-smi"
   ]
  },
  {
   "cell_type": "code",
   "execution_count": null,
   "id": "64180d5e",
   "metadata": {},
   "outputs": [],
   "source": [
    "!pip install --upgrade jupyter"
   ]
  },
  {
   "cell_type": "code",
   "execution_count": null,
   "id": "6b1126ab",
   "metadata": {},
   "outputs": [],
   "source": [
    "!pip install -q transformers"
   ]
  },
  {
   "cell_type": "code",
   "execution_count": null,
   "id": "75420637",
   "metadata": {},
   "outputs": [],
   "source": [
    "!pip install ipywidgets"
   ]
  },
  {
   "cell_type": "code",
   "execution_count": null,
   "id": "54a08437",
   "metadata": {},
   "outputs": [],
   "source": [
    "!pip install ipywidgets widgetsnbextension pandas-profiling"
   ]
  },
  {
   "cell_type": "code",
   "execution_count": null,
   "id": "adb0a5d6",
   "metadata": {},
   "outputs": [],
   "source": [
    "!jupyter nbextension enable --py widgetsnbextension"
   ]
  },
  {
   "cell_type": "code",
   "execution_count": null,
   "id": "cd48b70b-d322-454a-ae5f-d21b01baa9f5",
   "metadata": {},
   "outputs": [],
   "source": [
    "!pip install -U scikit-learn"
   ]
  },
  {
   "cell_type": "code",
   "execution_count": null,
   "id": "655ada4f-7643-4362-a455-cd3fbaeab2ae",
   "metadata": {},
   "outputs": [],
   "source": [
    "!pip install tensorboard"
   ]
  },
  {
   "cell_type": "code",
   "execution_count": null,
   "id": "3bbaaf41",
   "metadata": {},
   "outputs": [],
   "source": [
    "import matplotlib.pyplot as plt\n",
    "import pandas as pd\n",
    "import torch\n",
    "from transformers import BertTokenizer, BertForSequenceClassification, pipeline\n",
    "from transformers import AdamW\n",
    "from transformers import Trainer, TrainingArguments\n",
    "from sklearn.metrics import accuracy_score, precision_recall_fscore_support"
   ]
  },
  {
   "cell_type": "code",
   "execution_count": null,
   "id": "3ff80fd7",
   "metadata": {},
   "outputs": [],
   "source": [
    "class JpSentiDataset(torch.utils.data.Dataset):\n",
    "    def __init__(self, encodings, labels):\n",
    "        self.encodings = encodings\n",
    "        self.labels = labels\n",
    "\n",
    "    def __getitem__(self, idx):\n",
    "        item = {key: torch.tensor(val[idx]) for key, val in self.encodings.items()}\n",
    "        item['labels'] = torch.tensor(self.labels[idx])\n",
    "        return item\n",
    "\n",
    "    def __len__(self):\n",
    "        return len(self.labels)"
   ]
  },
  {
   "cell_type": "code",
   "execution_count": null,
   "id": "a9f4c51d",
   "metadata": {},
   "outputs": [],
   "source": [
    "def compute_metrics(pred):\n",
    "    labels = pred.label_ids\n",
    "    preds = pred.predictions.argmax(-1)\n",
    "    precision, recall, f1, _ = precision_recall_fscore_support(labels, preds, average='weighted', zero_division=0)\n",
    "    acc = accuracy_score(labels, preds)\n",
    "    return {\n",
    "        'accuracy': acc,\n",
    "        'f1': f1,\n",
    "        'precision': precision,\n",
    "        'recall': recall\n",
    "    }"
   ]
  },
  {
   "cell_type": "code",
   "execution_count": null,
   "id": "78f8c23f",
   "metadata": {},
   "outputs": [],
   "source": [
    "df = pd.read_csv(\"train35404hard_sents.tsv\", sep='\\t', header=None,\n",
    "                 names=[\"id\", \"text1\", \"text2\",\"last_text\", \"label\", \"usage\"])\n",
    "df[\"text\"] = df[\"text1\"] + \"[SEP]\" + df[\"text2\"] + \"[SEP]\" + df[\"last_text\"]\n",
    "\n",
    "df_train = df[(df[\"usage\"] == \"train\")]\n",
    "temp1 = df_train[\"text\"]\n",
    "train_docs = temp1[:].tolist()\n",
    "temp2 = df_train[\"label\"]\n",
    "train_labels = temp2[:].tolist()\n",
    "print(len(train_docs))"
   ]
  },
  {
   "cell_type": "code",
   "execution_count": null,
   "id": "e74b143f-3091-4834-9df5-eb4d86fb2eef",
   "metadata": {},
   "outputs": [],
   "source": [
    "df_dev = pd.read_csv(\"1000_dev2.tsv\", sep='\\t', header=None,\n",
    "                 names=[\"id\", \"text1\", \"text2\",\"last_text\", \"label\", \"usage\"])\n",
    "df_dev[\"text\"] = df_dev[\"text1\"] + \"[SEP]\" + df_dev[\"text2\"] + \"[SEP]\" + df_dev[\"last_text\"]\n",
    "\n",
    "df_dev1 = df_dev[(df_dev[\"usage\"] == \"test\")]\n",
    "temp3 = df_dev1[\"text\"]\n",
    "dev_docs = temp3[:].tolist()\n",
    "temp4 = df_dev1[\"label\"]\n",
    "dev_labels = temp4[:].tolist()\n",
    "print(len(dev_docs))\n",
    "\n",
    "device = \"cuda:0\" if torch.cuda.is_available() else \"cpu\"\n",
    "print(device)"
   ]
  },
  {
   "cell_type": "code",
   "execution_count": null,
   "id": "5294d2f6",
   "metadata": {},
   "outputs": [],
   "source": [
    "model_name = \"cl-tohoku/bert-large-japanese\"\n",
    "# model_name = \"cl-tohoku/bert-base-japanese-v2\"\n",
    "model = BertForSequenceClassification.from_pretrained(model_name, num_labels=2)\n",
    "model = model.to(device)\n",
    "tokenizer = BertTokenizer.from_pretrained(model_name)"
   ]
  },
  {
   "cell_type": "code",
   "execution_count": null,
   "id": "24733c15",
   "metadata": {},
   "outputs": [],
   "source": [
    "train_encodings = tokenizer(train_docs, return_tensors='pt', padding=True, truncation=True, max_length=128).to(device)\n",
    "dev_encodings = tokenizer(dev_docs, return_tensors='pt', padding=True, truncation=True, max_length=128).to(device)\n",
    "train_dataset = JpSentiDataset(train_encodings, train_labels)\n",
    "dev_dataset = JpSentiDataset(dev_encodings, dev_labels)"
   ]
  },
  {
   "cell_type": "code",
   "execution_count": null,
   "id": "5ef0fc43",
   "metadata": {},
   "outputs": [],
   "source": [
    "training_args = TrainingArguments(\n",
    "    output_dir=\"./results_2/5e-7_16_epoch10\",  # output directory\n",
    "    num_train_epochs=10,  # total number of training epochs\n",
    "    per_device_train_batch_size=16,  # batch size per device during training\n",
    "    per_device_eval_batch_size=16,  # batch size for evaluation\n",
    "    evaluation_strategy=\"epoch\",     # Evaluation is done at the end of each epoch.\n",
    "    dataloader_pin_memory=False,\n",
    "    save_strategy=\"epoch\",\n",
    "    logging_dir=\"./logs_2/5e-7_16_epoch10\",\n",
    "    logging_strategy=\"epoch\",\n",
    "    tf32=True,\n",
    "    learning_rate=5e-7\n",
    ")"
   ]
  },
  {
   "cell_type": "code",
   "execution_count": null,
   "id": "d5a500e4",
   "metadata": {},
   "outputs": [],
   "source": [
    "trainer = Trainer(\n",
    "    model=model,  # the instantiated 🤗 Transformers model to be trained\n",
    "    args=training_args,  # training arguments, defined above\n",
    "    train_dataset=train_dataset,  # training dataset\n",
    "    eval_dataset=dev_dataset,  # evaluation dataset\n",
    "    compute_metrics=compute_metrics  # The function that will be used to compute metrics at evaluation\n",
    ")"
   ]
  },
  {
   "cell_type": "code",
   "execution_count": null,
   "id": "b10e1524",
   "metadata": {
    "tags": []
   },
   "outputs": [],
   "source": [
    "trainer.train()"
   ]
  },
  {
   "cell_type": "markdown",
   "id": "e55da358",
   "metadata": {},
   "source": [
    "trainer.train()"
   ]
  },
  {
   "cell_type": "code",
   "execution_count": null,
   "id": "af2a9ced",
   "metadata": {
    "tags": []
   },
   "outputs": [],
   "source": [
    "save_dir = \"./step2_5e-7_epoch10_16\"\n",
    "tokenizer.save_pretrained(save_dir)\n",
    "model.save_pretrained(save_dir)"
   ]
  }
 ],
 "metadata": {
  "kernelspec": {
   "display_name": "Python 3",
   "language": "python",
   "name": "python3"
  },
  "language_info": {
   "codemirror_mode": {
    "name": "ipython",
    "version": 3
   },
   "file_extension": ".py",
   "mimetype": "text/x-python",
   "name": "python",
   "nbconvert_exporter": "python",
   "pygments_lexer": "ipython3",
   "version": "3.8.8"
  }
 },
 "nbformat": 4,
 "nbformat_minor": 5
}
