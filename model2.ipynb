{
 "cells": [
  {
   "cell_type": "code",
   "execution_count": null,
   "id": "2b96a824",
   "metadata": {},
   "outputs": [],
   "source": [
    "!nvidia-smi"
   ]
  },
  {
   "cell_type": "code",
   "execution_count": null,
   "id": "64180d5e",
   "metadata": {},
   "outputs": [],
   "source": [
    "!pip install --upgrade jupyter"
   ]
  },
  {
   "cell_type": "code",
   "execution_count": 3,
   "id": "6b1126ab",
   "metadata": {},
   "outputs": [],
   "source": [
    "!pip install -q transformers"
   ]
  },
  {
   "cell_type": "code",
   "execution_count": null,
   "id": "75420637",
   "metadata": {},
   "outputs": [],
   "source": [
    "!pip install ipywidgets"
   ]
  },
  {
   "cell_type": "code",
   "execution_count": null,
   "id": "54a08437",
   "metadata": {},
   "outputs": [],
   "source": [
    "!pip install ipywidgets widgetsnbextension pandas-profiling"
   ]
  },
  {
   "cell_type": "code",
   "execution_count": 6,
   "id": "adb0a5d6",
   "metadata": {},
   "outputs": [
    {
     "name": "stdout",
     "output_type": "stream",
     "text": [
      "Enabling notebook extension jupyter-js-widgets/extension...\n",
      "      - Validating: \u001b[32mOK\u001b[0m\n"
     ]
    }
   ],
   "source": [
    "!jupyter nbextension enable --py widgetsnbextension"
   ]
  },
  {
   "cell_type": "code",
   "execution_count": null,
   "id": "cd48b70b-d322-454a-ae5f-d21b01baa9f5",
   "metadata": {},
   "outputs": [],
   "source": [
    "!pip install -U scikit-learn"
   ]
  },
  {
   "cell_type": "code",
   "execution_count": null,
   "id": "655ada4f-7643-4362-a455-cd3fbaeab2ae",
   "metadata": {},
   "outputs": [],
   "source": [
    "!pip install tensorboard"
   ]
  },
  {
   "cell_type": "code",
   "execution_count": 17,
   "id": "3bbaaf41",
   "metadata": {},
   "outputs": [],
   "source": [
    "import matplotlib.pyplot as plt\n",
    "import pandas as pd\n",
    "import torch\n",
    "from transformers import BertTokenizer, BertForSequenceClassification, pipeline\n",
    "from transformers import AdamW\n",
    "from transformers import Trainer, TrainingArguments\n",
    "from sklearn.metrics import accuracy_score, precision_recall_fscore_support"
   ]
  },
  {
   "cell_type": "code",
   "execution_count": 18,
   "id": "3ff80fd7",
   "metadata": {},
   "outputs": [],
   "source": [
    "class JpSentiDataset(torch.utils.data.Dataset):\n",
    "    def __init__(self, encodings, labels):\n",
    "        self.encodings = encodings\n",
    "        self.labels = labels\n",
    "\n",
    "    def __getitem__(self, idx):\n",
    "        item = {key: torch.tensor(val[idx]) for key, val in self.encodings.items()}\n",
    "        item['labels'] = torch.tensor(self.labels[idx])\n",
    "        return item\n",
    "\n",
    "    def __len__(self):\n",
    "        return len(self.labels)"
   ]
  },
  {
   "cell_type": "code",
   "execution_count": 19,
   "id": "a9f4c51d",
   "metadata": {},
   "outputs": [],
   "source": [
    "def compute_metrics(pred):\n",
    "    labels = pred.label_ids\n",
    "    preds = pred.predictions.argmax(-1)\n",
    "    precision, recall, f1, _ = precision_recall_fscore_support(labels, preds, average='weighted', zero_division=0)\n",
    "    acc = accuracy_score(labels, preds)\n",
    "    return {\n",
    "        'accuracy': acc,\n",
    "        'f1': f1,\n",
    "        'precision': precision,\n",
    "        'recall': recall\n",
    "    }"
   ]
  },
  {
   "cell_type": "code",
   "execution_count": 20,
   "id": "78f8c23f",
   "metadata": {},
   "outputs": [
    {
     "name": "stdout",
     "output_type": "stream",
     "text": [
      "3248378\n"
     ]
    }
   ],
   "source": [
    "df = pd.read_csv(\"train35404_nolast.tsv\", sep='\\t', header=None,\n",
    "                 names=[\"id\", \"text1\", \"text2\",\"last_text\", \"label\", \"usage\"])\n",
    "df[\"text\"] = df[\"text1\"] + \"[SEP]\" + df[\"text2\"] + \"[SEP]\" + df[\"last_text\"]\n",
    "\n",
    "df_train = df[(df[\"usage\"] == \"train\")]\n",
    "temp1 = df_train[\"text\"]\n",
    "train_docs = temp1[:].tolist()\n",
    "temp2 = df_train[\"label\"]\n",
    "train_labels = temp2[:].tolist()\n",
    "print(len(train_docs))"
   ]
  },
  {
   "cell_type": "code",
   "execution_count": 21,
   "id": "e74b143f-3091-4834-9df5-eb4d86fb2eef",
   "metadata": {},
   "outputs": [
    {
     "name": "stdout",
     "output_type": "stream",
     "text": [
      "61580\n",
      "cuda:0\n"
     ]
    }
   ],
   "source": [
    "df_dev = pd.read_csv(\"1000_dev.tsv\", sep='\\t', header=None,\n",
    "                 names=[\"id\", \"text1\", \"text2\",\"last_text\", \"label\", \"usage\"])\n",
    "df_dev[\"text\"] = df_dev[\"text1\"] + \"[SEP]\" + df_dev[\"text2\"] + \"[SEP]\" + df_dev[\"last_text\"]\n",
    "\n",
    "df_dev1 = df_dev[(df_dev[\"usage\"] == \"test\")]\n",
    "temp3 = df_dev1[\"text\"]\n",
    "dev_docs = temp3[:].tolist()\n",
    "temp4 = df_dev1[\"label\"]\n",
    "dev_labels = temp4[:].tolist()\n",
    "print(len(dev_docs))\n",
    "\n",
    "device = \"cuda:0\" if torch.cuda.is_available() else \"cpu\"\n",
    "print(device)"
   ]
  },
  {
   "cell_type": "code",
   "execution_count": 22,
   "id": "5294d2f6",
   "metadata": {},
   "outputs": [
    {
     "data": {
      "application/vnd.jupyter.widget-view+json": {
       "model_id": "c153815672c94f2bb51efab93a3dc9be",
       "version_major": 2,
       "version_minor": 0
      },
      "text/plain": [
       "HBox(children=(HTML(value='Downloading'), FloatProgress(value=0.0, max=1354281605.0), HTML(value='')))"
      ]
     },
     "metadata": {},
     "output_type": "display_data"
    },
    {
     "name": "stdout",
     "output_type": "stream",
     "text": [
      "\n"
     ]
    },
    {
     "name": "stderr",
     "output_type": "stream",
     "text": [
      "Some weights of the model checkpoint at cl-tohoku/bert-large-japanese were not used when initializing BertForSequenceClassification: ['cls.predictions.transform.LayerNorm.bias', 'cls.seq_relationship.bias', 'cls.predictions.decoder.bias', 'cls.predictions.bias', 'cls.predictions.transform.dense.weight', 'cls.predictions.decoder.weight', 'cls.predictions.transform.LayerNorm.weight', 'cls.seq_relationship.weight', 'cls.predictions.transform.dense.bias']\n",
      "- This IS expected if you are initializing BertForSequenceClassification from the checkpoint of a model trained on another task or with another architecture (e.g. initializing a BertForSequenceClassification model from a BertForPreTraining model).\n",
      "- This IS NOT expected if you are initializing BertForSequenceClassification from the checkpoint of a model that you expect to be exactly identical (initializing a BertForSequenceClassification model from a BertForSequenceClassification model).\n",
      "Some weights of BertForSequenceClassification were not initialized from the model checkpoint at cl-tohoku/bert-large-japanese and are newly initialized: ['classifier.bias', 'classifier.weight']\n",
      "You should probably TRAIN this model on a down-stream task to be able to use it for predictions and inference.\n"
     ]
    },
    {
     "data": {
      "application/vnd.jupyter.widget-view+json": {
       "model_id": "b6534a343a4c49f39e350f127f05f0af",
       "version_major": 2,
       "version_minor": 0
      },
      "text/plain": [
       "HBox(children=(HTML(value='Downloading'), FloatProgress(value=0.0, max=236001.0), HTML(value='')))"
      ]
     },
     "metadata": {},
     "output_type": "display_data"
    },
    {
     "name": "stdout",
     "output_type": "stream",
     "text": [
      "\n"
     ]
    },
    {
     "data": {
      "application/vnd.jupyter.widget-view+json": {
       "model_id": "7d103634f7ec4b638d6b2f3db7cc9906",
       "version_major": 2,
       "version_minor": 0
      },
      "text/plain": [
       "HBox(children=(HTML(value='Downloading'), FloatProgress(value=0.0, max=174.0), HTML(value='')))"
      ]
     },
     "metadata": {},
     "output_type": "display_data"
    },
    {
     "name": "stdout",
     "output_type": "stream",
     "text": [
      "\n"
     ]
    },
    {
     "name": "stderr",
     "output_type": "stream",
     "text": [
      "The tokenizer class you load from this checkpoint is not the same type as the class this function is called from. It may result in unexpected tokenization. \n",
      "The tokenizer class you load from this checkpoint is 'BertJapaneseTokenizer'. \n",
      "The class this function is called from is 'BertTokenizer'.\n"
     ]
    }
   ],
   "source": [
    "model_name = \"cl-tohoku/bert-large-japanese\"\n",
    "# model_name = \"cl-tohoku/bert-base-japanese-v2\"\n",
    "model = BertForSequenceClassification.from_pretrained(model_name, num_labels=2)\n",
    "model = model.to(device)\n",
    "tokenizer = BertTokenizer.from_pretrained(model_name)"
   ]
  },
  {
   "cell_type": "code",
   "execution_count": 23,
   "id": "24733c15",
   "metadata": {},
   "outputs": [],
   "source": [
    "train_encodings = tokenizer(train_docs, return_tensors='pt', padding=True, truncation=True, max_length=128).to(device)\n",
    "dev_encodings = tokenizer(dev_docs, return_tensors='pt', padding=True, truncation=True, max_length=128).to(device)\n",
    "train_dataset = JpSentiDataset(train_encodings, train_labels)\n",
    "dev_dataset = JpSentiDataset(dev_encodings, dev_labels)"
   ]
  },
  {
   "cell_type": "code",
   "execution_count": 24,
   "id": "5ef0fc43",
   "metadata": {},
   "outputs": [],
   "source": [
    "training_args = TrainingArguments(\n",
    "    output_dir=\"./results/5e-6\",  # output directory\n",
    "    num_train_epochs=10,  # total number of training epochs\n",
    "    per_device_train_batch_size=16,  # batch size per device during training\n",
    "    per_device_eval_batch_size=16,  # batch size for evaluation\n",
    "    evaluation_strategy=\"epoch\",     # Evaluation is done at the end of each epoch.\n",
    "    dataloader_pin_memory=False,\n",
    "    save_strategy=\"epoch\",\n",
    "    logging_dir=\"./logs/5e-6\",\n",
    "    logging_strategy=\"epoch\",\n",
    "    tf32=True,\n",
    "    learning_rate=5e-6\n",
    ")"
   ]
  },
  {
   "cell_type": "code",
   "execution_count": 25,
   "id": "d5a500e4",
   "metadata": {},
   "outputs": [],
   "source": [
    "trainer = Trainer(\n",
    "    model=model,  # the instantiated 🤗 Transformers model to be trained\n",
    "    args=training_args,  # training arguments, defined above\n",
    "    train_dataset=train_dataset,  # training dataset\n",
    "    eval_dataset=dev_dataset,  # evaluation dataset\n",
    "    compute_metrics=compute_metrics  # The function that will be used to compute metrics at evaluation\n",
    ")"
   ]
  },
  {
   "cell_type": "code",
   "execution_count": null,
   "id": "b10e1524",
   "metadata": {},
   "outputs": [
    {
     "name": "stderr",
     "output_type": "stream",
     "text": [
      "/opt/conda/lib/python3.8/site-packages/transformers/optimization.py:306: FutureWarning: This implementation of AdamW is deprecated and will be removed in a future version. Use the PyTorch implementation torch.optim.AdamW instead, or set `no_deprecation_warning=True` to disable this warning\n",
      "  warnings.warn(\n",
      "***** Running training *****\n",
      "  Num examples = 3248378\n",
      "  Num Epochs = 10\n",
      "  Instantaneous batch size per device = 16\n",
      "  Total train batch size (w. parallel, distributed & accumulation) = 16\n",
      "  Gradient Accumulation steps = 1\n",
      "  Total optimization steps = 2030240\n",
      "<ipython-input-18-7a4003bd4b20>:7: UserWarning: To copy construct from a tensor, it is recommended to use sourceTensor.clone().detach() or sourceTensor.clone().detach().requires_grad_(True), rather than torch.tensor(sourceTensor).\n",
      "  item = {key: torch.tensor(val[idx]) for key, val in self.encodings.items()}\n"
     ]
    },
    {
     "data": {
      "text/html": [
       "\n",
       "    <div>\n",
       "      \n",
       "      <progress value='1756085' max='2030240' style='width:300px; height:20px; vertical-align: middle;'></progress>\n",
       "      [1756085/2030240 64:55:46 < 10:08:11, 7.51 it/s, Epoch 8.65/10]\n",
       "    </div>\n",
       "    <table border=\"1\" class=\"dataframe\">\n",
       "  <thead>\n",
       " <tr style=\"text-align: left;\">\n",
       "      <th>Epoch</th>\n",
       "      <th>Training Loss</th>\n",
       "      <th>Validation Loss</th>\n",
       "      <th>Accuracy</th>\n",
       "      <th>F1</th>\n",
       "      <th>Precision</th>\n",
       "      <th>Recall</th>\n",
       "    </tr>\n",
       "  </thead>\n",
       "  <tbody>\n",
       "    <tr>\n",
       "      <td>1</td>\n",
       "      <td>0.600100</td>\n",
       "      <td>0.742837</td>\n",
       "      <td>0.613901</td>\n",
       "      <td>0.613584</td>\n",
       "      <td>0.614276</td>\n",
       "      <td>0.613901</td>\n",
       "    </tr>\n",
       "    <tr>\n",
       "      <td>2</td>\n",
       "      <td>0.535900</td>\n",
       "      <td>0.812284</td>\n",
       "      <td>0.616661</td>\n",
       "      <td>0.616432</td>\n",
       "      <td>0.616940</td>\n",
       "      <td>0.616661</td>\n",
       "    </tr>\n",
       "    <tr>\n",
       "      <td>3</td>\n",
       "      <td>0.486100</td>\n",
       "      <td>0.889823</td>\n",
       "      <td>0.615525</td>\n",
       "      <td>0.615370</td>\n",
       "      <td>0.615710</td>\n",
       "      <td>0.615525</td>\n",
       "    </tr>\n",
       "    <tr>\n",
       "      <td>4</td>\n",
       "      <td>0.443700</td>\n",
       "      <td>0.948530</td>\n",
       "      <td>0.611838</td>\n",
       "      <td>0.611831</td>\n",
       "      <td>0.611847</td>\n",
       "      <td>0.611838</td>\n",
       "    </tr>\n",
       "    <tr>\n",
       "      <td>5</td>\n",
       "      <td>0.408800</td>\n",
       "      <td>1.007247</td>\n",
       "      <td>0.611903</td>\n",
       "      <td>0.611853</td>\n",
       "      <td>0.611961</td>\n",
       "      <td>0.611903</td>\n",
       "    </tr>\n",
       "    <tr>\n",
       "      <td>6</td>\n",
       "      <td>0.381400</td>\n",
       "      <td>1.070730</td>\n",
       "      <td>0.611026</td>\n",
       "      <td>0.610967</td>\n",
       "      <td>0.611094</td>\n",
       "      <td>0.611026</td>\n",
       "    </tr>\n",
       "    <tr>\n",
       "      <td>7</td>\n",
       "      <td>0.359700</td>\n",
       "      <td>1.097035</td>\n",
       "      <td>0.609922</td>\n",
       "      <td>0.609901</td>\n",
       "      <td>0.609946</td>\n",
       "      <td>0.609922</td>\n",
       "    </tr>\n",
       "    <tr>\n",
       "      <td>8</td>\n",
       "      <td>0.343800</td>\n",
       "      <td>1.145269</td>\n",
       "      <td>0.610864</td>\n",
       "      <td>0.610859</td>\n",
       "      <td>0.610870</td>\n",
       "      <td>0.610864</td>\n",
       "    </tr>\n",
       "  </tbody>\n",
       "</table><p>"
      ],
      "text/plain": [
       "<IPython.core.display.HTML object>"
      ]
     },
     "metadata": {},
     "output_type": "display_data"
    },
    {
     "name": "stderr",
     "output_type": "stream",
     "text": [
      "***** Running Evaluation *****\n",
      "  Num examples = 61580\n",
      "  Batch size = 16\n",
      "Saving model checkpoint to ./results/checkpoint-203024\n",
      "Configuration saved in ./results/checkpoint-203024/config.json\n",
      "Model weights saved in ./results/checkpoint-203024/pytorch_model.bin\n",
      "<ipython-input-18-7a4003bd4b20>:7: UserWarning: To copy construct from a tensor, it is recommended to use sourceTensor.clone().detach() or sourceTensor.clone().detach().requires_grad_(True), rather than torch.tensor(sourceTensor).\n",
      "  item = {key: torch.tensor(val[idx]) for key, val in self.encodings.items()}\n",
      "***** Running Evaluation *****\n",
      "  Num examples = 61580\n",
      "  Batch size = 16\n",
      "Saving model checkpoint to ./results/checkpoint-406048\n",
      "Configuration saved in ./results/checkpoint-406048/config.json\n",
      "Model weights saved in ./results/checkpoint-406048/pytorch_model.bin\n",
      "<ipython-input-18-7a4003bd4b20>:7: UserWarning: To copy construct from a tensor, it is recommended to use sourceTensor.clone().detach() or sourceTensor.clone().detach().requires_grad_(True), rather than torch.tensor(sourceTensor).\n",
      "  item = {key: torch.tensor(val[idx]) for key, val in self.encodings.items()}\n",
      "***** Running Evaluation *****\n",
      "  Num examples = 61580\n",
      "  Batch size = 16\n",
      "Saving model checkpoint to ./results/checkpoint-609072\n",
      "Configuration saved in ./results/checkpoint-609072/config.json\n",
      "Model weights saved in ./results/checkpoint-609072/pytorch_model.bin\n",
      "<ipython-input-18-7a4003bd4b20>:7: UserWarning: To copy construct from a tensor, it is recommended to use sourceTensor.clone().detach() or sourceTensor.clone().detach().requires_grad_(True), rather than torch.tensor(sourceTensor).\n",
      "  item = {key: torch.tensor(val[idx]) for key, val in self.encodings.items()}\n",
      "***** Running Evaluation *****\n",
      "  Num examples = 61580\n",
      "  Batch size = 16\n",
      "Saving model checkpoint to ./results/checkpoint-812096\n",
      "Configuration saved in ./results/checkpoint-812096/config.json\n",
      "Model weights saved in ./results/checkpoint-812096/pytorch_model.bin\n",
      "<ipython-input-18-7a4003bd4b20>:7: UserWarning: To copy construct from a tensor, it is recommended to use sourceTensor.clone().detach() or sourceTensor.clone().detach().requires_grad_(True), rather than torch.tensor(sourceTensor).\n",
      "  item = {key: torch.tensor(val[idx]) for key, val in self.encodings.items()}\n",
      "***** Running Evaluation *****\n",
      "  Num examples = 61580\n",
      "  Batch size = 16\n",
      "Saving model checkpoint to ./results/checkpoint-1015120\n",
      "Configuration saved in ./results/checkpoint-1015120/config.json\n",
      "Model weights saved in ./results/checkpoint-1015120/pytorch_model.bin\n",
      "<ipython-input-18-7a4003bd4b20>:7: UserWarning: To copy construct from a tensor, it is recommended to use sourceTensor.clone().detach() or sourceTensor.clone().detach().requires_grad_(True), rather than torch.tensor(sourceTensor).\n",
      "  item = {key: torch.tensor(val[idx]) for key, val in self.encodings.items()}\n",
      "***** Running Evaluation *****\n",
      "  Num examples = 61580\n",
      "  Batch size = 16\n",
      "Saving model checkpoint to ./results/checkpoint-1218144\n",
      "Configuration saved in ./results/checkpoint-1218144/config.json\n",
      "Model weights saved in ./results/checkpoint-1218144/pytorch_model.bin\n",
      "<ipython-input-18-7a4003bd4b20>:7: UserWarning: To copy construct from a tensor, it is recommended to use sourceTensor.clone().detach() or sourceTensor.clone().detach().requires_grad_(True), rather than torch.tensor(sourceTensor).\n",
      "  item = {key: torch.tensor(val[idx]) for key, val in self.encodings.items()}\n",
      "***** Running Evaluation *****\n",
      "  Num examples = 61580\n",
      "  Batch size = 16\n",
      "Saving model checkpoint to ./results/checkpoint-1421168\n",
      "Configuration saved in ./results/checkpoint-1421168/config.json\n",
      "Model weights saved in ./results/checkpoint-1421168/pytorch_model.bin\n",
      "<ipython-input-18-7a4003bd4b20>:7: UserWarning: To copy construct from a tensor, it is recommended to use sourceTensor.clone().detach() or sourceTensor.clone().detach().requires_grad_(True), rather than torch.tensor(sourceTensor).\n",
      "  item = {key: torch.tensor(val[idx]) for key, val in self.encodings.items()}\n",
      "***** Running Evaluation *****\n",
      "  Num examples = 61580\n",
      "  Batch size = 16\n",
      "Saving model checkpoint to ./results/checkpoint-1624192\n",
      "Configuration saved in ./results/checkpoint-1624192/config.json\n",
      "Model weights saved in ./results/checkpoint-1624192/pytorch_model.bin\n",
      "<ipython-input-18-7a4003bd4b20>:7: UserWarning: To copy construct from a tensor, it is recommended to use sourceTensor.clone().detach() or sourceTensor.clone().detach().requires_grad_(True), rather than torch.tensor(sourceTensor).\n",
      "  item = {key: torch.tensor(val[idx]) for key, val in self.encodings.items()}\n"
     ]
    }
   ],
   "source": [
    "trainer.train()"
   ]
  },
  {
   "cell_type": "markdown",
   "id": "e55da358",
   "metadata": {},
   "source": [
    "trainer.train()"
   ]
  },
  {
   "cell_type": "code",
   "execution_count": null,
   "id": "af2a9ced",
   "metadata": {},
   "outputs": [],
   "source": [
    "save_dir = \"./train35404_5e-7_epoch10\"\n",
    "tokenizer.save_pretrained(save_dir)\n",
    "model.save_pretrained(save_dir)"
   ]
  }
 ],
 "metadata": {
  "kernelspec": {
   "display_name": "Python 3",
   "language": "python",
   "name": "python3"
  },
  "language_info": {
   "codemirror_mode": {
    "name": "ipython",
    "version": 3
   },
   "file_extension": ".py",
   "mimetype": "text/x-python",
   "name": "python",
   "nbconvert_exporter": "python",
   "pygments_lexer": "ipython3",
   "version": "3.8.8"
  }
 },
 "nbformat": 4,
 "nbformat_minor": 5
}
